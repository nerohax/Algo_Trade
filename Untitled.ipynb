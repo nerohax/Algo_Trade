{
 "cells": [
  {
   "cell_type": "code",
   "execution_count": 1,
   "id": "1bdb99ac-9f6d-4330-9c93-3d337f5ad08c",
   "metadata": {},
   "outputs": [],
   "source": [
    "import yfinance as yf \n",
    "import pandas as pd\n",
    "import ta\n",
    "import warnings as w\n",
    "w.filterwarnings('ignore')\n",
    "import os\n",
    "import numpy as np"
   ]
  },
  {
   "cell_type": "markdown",
   "id": "091a86a5-58c2-440e-9425-3b8389741647",
   "metadata": {},
   "source": [
    "Downloading the stocks data for last 1 year, saving them into a csv file"
   ]
  },
  {
   "cell_type": "code",
   "execution_count": 2,
   "id": "88fc572c-38ab-4551-9233-0e256fc7a933",
   "metadata": {},
   "outputs": [
    {
     "name": "stdout",
     "output_type": "stream",
     "text": [
      "Saved: RELIANCE.NS\n",
      "Saved: TCS.NS\n",
      "Saved: INFY.NS\n",
      "Saved: HDFCBANK.NS\n",
      "Saved: ICICIBANK.NS\n",
      "Saved: LT.NS\n",
      "Saved: SBIN.NS\n",
      "Saved: HINDUNILVR.NS\n",
      "Saved: ITC.NS\n",
      "Saved: KOTAKBANK.NS\n"
     ]
    }
   ],
   "source": [
    "\n",
    "output_dir = \"stocks\"\n",
    "os.makedirs(output_dir, exist_ok=True)\n",
    "\n",
    "stocks = [\n",
    "    \"RELIANCE.NS\", \"TCS.NS\", \"INFY.NS\", \"HDFCBANK.NS\", \"ICICIBANK.NS\",\n",
    "    \"LT.NS\", \"SBIN.NS\", \"HINDUNILVR.NS\", \"ITC.NS\", \"KOTAKBANK.NS\"\n",
    "]\n",
    "\n",
    "for ticker in stocks:\n",
    "    df = yf.download(ticker, period=\"1y\", interval=\"1d\", progress=False)\n",
    "    stock_name = ticker.replace(\".NS\", \"\")\n",
    "    file_path = os.path.join(output_dir, f\"{stock_name}.csv\")\n",
    "    df.to_csv(file_path)\n",
    "    print(f\"Saved: {ticker}\")"
   ]
  },
  {
   "cell_type": "code",
   "execution_count": 3,
   "id": "f3a42dbe-b81e-4849-b1fa-1d6121d8eae7",
   "metadata": {},
   "outputs": [],
   "source": [
    "stocks_use = ['SBIN.NS',\"ITC.NS\", \"LT.NS\"]"
   ]
  },
  {
   "cell_type": "markdown",
   "id": "bdb501e1-65cd-4cc7-b4a1-88b975e323bb",
   "metadata": {},
   "source": [
    "3 stocks that will be used in this model"
   ]
  },
  {
   "cell_type": "code",
   "execution_count": 4,
   "id": "4e9ee158-cb5b-413d-aa69-afd9abff4934",
   "metadata": {},
   "outputs": [],
   "source": [
    "for stock in stocks_use:\n",
    "    stock = stock.split('.')\n",
    "    stock = stock[0]\n",
    "    file = f'{stock}.csv'\n",
    "    path = os.path.join('stocks',file)\n",
    "    globals()[f\"{stock}_df\"] = pd.read_csv(path)\n"
   ]
  },
  {
   "cell_type": "code",
   "execution_count": 5,
   "id": "d1aa5482-f387-4df8-9e60-b31ef6796bc9",
   "metadata": {
    "scrolled": true
   },
   "outputs": [
    {
     "data": {
      "text/html": [
       "<div>\n",
       "<style scoped>\n",
       "    .dataframe tbody tr th:only-of-type {\n",
       "        vertical-align: middle;\n",
       "    }\n",
       "\n",
       "    .dataframe tbody tr th {\n",
       "        vertical-align: top;\n",
       "    }\n",
       "\n",
       "    .dataframe thead th {\n",
       "        text-align: right;\n",
       "    }\n",
       "</style>\n",
       "<table border=\"1\" class=\"dataframe\">\n",
       "  <thead>\n",
       "    <tr style=\"text-align: right;\">\n",
       "      <th></th>\n",
       "      <th>Price</th>\n",
       "      <th>Close</th>\n",
       "      <th>High</th>\n",
       "      <th>Low</th>\n",
       "      <th>Open</th>\n",
       "      <th>Volume</th>\n",
       "    </tr>\n",
       "  </thead>\n",
       "  <tbody>\n",
       "    <tr>\n",
       "      <th>0</th>\n",
       "      <td>Ticker</td>\n",
       "      <td>LT.NS</td>\n",
       "      <td>LT.NS</td>\n",
       "      <td>LT.NS</td>\n",
       "      <td>LT.NS</td>\n",
       "      <td>LT.NS</td>\n",
       "    </tr>\n",
       "    <tr>\n",
       "      <th>1</th>\n",
       "      <td>Date</td>\n",
       "      <td>NaN</td>\n",
       "      <td>NaN</td>\n",
       "      <td>NaN</td>\n",
       "      <td>NaN</td>\n",
       "      <td>NaN</td>\n",
       "    </tr>\n",
       "    <tr>\n",
       "      <th>2</th>\n",
       "      <td>2024-08-08</td>\n",
       "      <td>3520.714599609375</td>\n",
       "      <td>3595.2196895455763</td>\n",
       "      <td>3514.6708679657236</td>\n",
       "      <td>3587.5413009561235</td>\n",
       "      <td>2038088</td>\n",
       "    </tr>\n",
       "    <tr>\n",
       "      <th>3</th>\n",
       "      <td>2024-08-09</td>\n",
       "      <td>3558.85888671875</td>\n",
       "      <td>3572.234144389889</td>\n",
       "      <td>3542.6598667853705</td>\n",
       "      <td>3566.7353789703648</td>\n",
       "      <td>848232</td>\n",
       "    </tr>\n",
       "    <tr>\n",
       "      <th>4</th>\n",
       "      <td>2024-08-12</td>\n",
       "      <td>3538.944580078125</td>\n",
       "      <td>3577.6338004034938</td>\n",
       "      <td>3530.0773278420515</td>\n",
       "      <td>3545.9294853625324</td>\n",
       "      <td>1965035</td>\n",
       "    </tr>\n",
       "    <tr>\n",
       "      <th>...</th>\n",
       "      <td>...</td>\n",
       "      <td>...</td>\n",
       "      <td>...</td>\n",
       "      <td>...</td>\n",
       "      <td>...</td>\n",
       "      <td>...</td>\n",
       "    </tr>\n",
       "    <tr>\n",
       "      <th>248</th>\n",
       "      <td>2025-08-04</td>\n",
       "      <td>3631.10009765625</td>\n",
       "      <td>3636.800048828125</td>\n",
       "      <td>3577.0</td>\n",
       "      <td>3595.199951171875</td>\n",
       "      <td>1033049</td>\n",
       "    </tr>\n",
       "    <tr>\n",
       "      <th>249</th>\n",
       "      <td>2025-08-05</td>\n",
       "      <td>3652.60009765625</td>\n",
       "      <td>3657.699951171875</td>\n",
       "      <td>3608.300048828125</td>\n",
       "      <td>3630.0</td>\n",
       "      <td>1158433</td>\n",
       "    </tr>\n",
       "    <tr>\n",
       "      <th>250</th>\n",
       "      <td>2025-08-06</td>\n",
       "      <td>3628.39990234375</td>\n",
       "      <td>3671.0</td>\n",
       "      <td>3622.199951171875</td>\n",
       "      <td>3650.0</td>\n",
       "      <td>931383</td>\n",
       "    </tr>\n",
       "    <tr>\n",
       "      <th>251</th>\n",
       "      <td>2025-08-07</td>\n",
       "      <td>3641.60009765625</td>\n",
       "      <td>3649.0</td>\n",
       "      <td>3599.199951171875</td>\n",
       "      <td>3610.300048828125</td>\n",
       "      <td>1211790</td>\n",
       "    </tr>\n",
       "    <tr>\n",
       "      <th>252</th>\n",
       "      <td>2025-08-08</td>\n",
       "      <td>3636.300048828125</td>\n",
       "      <td>3662.300048828125</td>\n",
       "      <td>3633.199951171875</td>\n",
       "      <td>3641.60009765625</td>\n",
       "      <td>444341</td>\n",
       "    </tr>\n",
       "  </tbody>\n",
       "</table>\n",
       "<p>253 rows × 6 columns</p>\n",
       "</div>"
      ],
      "text/plain": [
       "          Price              Close                High                 Low  \\\n",
       "0        Ticker              LT.NS               LT.NS               LT.NS   \n",
       "1          Date                NaN                 NaN                 NaN   \n",
       "2    2024-08-08  3520.714599609375  3595.2196895455763  3514.6708679657236   \n",
       "3    2024-08-09   3558.85888671875   3572.234144389889  3542.6598667853705   \n",
       "4    2024-08-12  3538.944580078125  3577.6338004034938  3530.0773278420515   \n",
       "..          ...                ...                 ...                 ...   \n",
       "248  2025-08-04   3631.10009765625   3636.800048828125              3577.0   \n",
       "249  2025-08-05   3652.60009765625   3657.699951171875   3608.300048828125   \n",
       "250  2025-08-06   3628.39990234375              3671.0   3622.199951171875   \n",
       "251  2025-08-07   3641.60009765625              3649.0   3599.199951171875   \n",
       "252  2025-08-08  3636.300048828125   3662.300048828125   3633.199951171875   \n",
       "\n",
       "                   Open   Volume  \n",
       "0                 LT.NS    LT.NS  \n",
       "1                   NaN      NaN  \n",
       "2    3587.5413009561235  2038088  \n",
       "3    3566.7353789703648   848232  \n",
       "4    3545.9294853625324  1965035  \n",
       "..                  ...      ...  \n",
       "248   3595.199951171875  1033049  \n",
       "249              3630.0  1158433  \n",
       "250              3650.0   931383  \n",
       "251   3610.300048828125  1211790  \n",
       "252    3641.60009765625   444341  \n",
       "\n",
       "[253 rows x 6 columns]"
      ]
     },
     "execution_count": 5,
     "metadata": {},
     "output_type": "execute_result"
    }
   ],
   "source": [
    "LT_df"
   ]
  },
  {
   "cell_type": "code",
   "execution_count": null,
   "id": "27c7c2f3-1fb5-4546-96e6-439c64a55095",
   "metadata": {},
   "outputs": [],
   "source": []
  },
  {
   "cell_type": "markdown",
   "id": "7700ba68-783c-493d-8d9c-d52a30d80a6b",
   "metadata": {},
   "source": [
    "Cleaning the dataframe of every stock"
   ]
  },
  {
   "cell_type": "code",
   "execution_count": 6,
   "id": "452c8a1c-1410-4fc5-95b8-4c04ec0e31c5",
   "metadata": {},
   "outputs": [
    {
     "data": {
      "text/html": [
       "<div>\n",
       "<style scoped>\n",
       "    .dataframe tbody tr th:only-of-type {\n",
       "        vertical-align: middle;\n",
       "    }\n",
       "\n",
       "    .dataframe tbody tr th {\n",
       "        vertical-align: top;\n",
       "    }\n",
       "\n",
       "    .dataframe thead th {\n",
       "        text-align: right;\n",
       "    }\n",
       "</style>\n",
       "<table border=\"1\" class=\"dataframe\">\n",
       "  <thead>\n",
       "    <tr style=\"text-align: right;\">\n",
       "      <th></th>\n",
       "      <th>Price</th>\n",
       "      <th>Close</th>\n",
       "      <th>High</th>\n",
       "      <th>Low</th>\n",
       "      <th>Open</th>\n",
       "      <th>Volume</th>\n",
       "    </tr>\n",
       "  </thead>\n",
       "  <tbody>\n",
       "    <tr>\n",
       "      <th>2</th>\n",
       "      <td>2024-08-08</td>\n",
       "      <td>478.2502136230469</td>\n",
       "      <td>481.3918269515459</td>\n",
       "      <td>476.07525054947064</td>\n",
       "      <td>477.5252259318548</td>\n",
       "      <td>20558134</td>\n",
       "    </tr>\n",
       "    <tr>\n",
       "      <th>3</th>\n",
       "      <td>2024-08-09</td>\n",
       "      <td>479.36187744140625</td>\n",
       "      <td>481.3918489695563</td>\n",
       "      <td>476.6552684037568</td>\n",
       "      <td>481.3918489695563</td>\n",
       "      <td>9201793</td>\n",
       "    </tr>\n",
       "    <tr>\n",
       "      <th>4</th>\n",
       "      <td>2024-08-12</td>\n",
       "      <td>478.1052551269531</td>\n",
       "      <td>483.3251609654143</td>\n",
       "      <td>475.59195838996766</td>\n",
       "      <td>475.59195838996766</td>\n",
       "      <td>9076097</td>\n",
       "    </tr>\n",
       "    <tr>\n",
       "      <th>5</th>\n",
       "      <td>2024-08-13</td>\n",
       "      <td>473.65863037109375</td>\n",
       "      <td>481.24684085965686</td>\n",
       "      <td>471.9669924054827</td>\n",
       "      <td>479.4102112541013</td>\n",
       "      <td>7757706</td>\n",
       "    </tr>\n",
       "    <tr>\n",
       "      <th>6</th>\n",
       "      <td>2024-08-14</td>\n",
       "      <td>475.7852783203125</td>\n",
       "      <td>482.3584884064827</td>\n",
       "      <td>473.5619649824716</td>\n",
       "      <td>475.54361575097056</td>\n",
       "      <td>9253598</td>\n",
       "    </tr>\n",
       "  </tbody>\n",
       "</table>\n",
       "</div>"
      ],
      "text/plain": [
       "        Price               Close                High                 Low  \\\n",
       "2  2024-08-08   478.2502136230469   481.3918269515459  476.07525054947064   \n",
       "3  2024-08-09  479.36187744140625   481.3918489695563   476.6552684037568   \n",
       "4  2024-08-12   478.1052551269531   483.3251609654143  475.59195838996766   \n",
       "5  2024-08-13  473.65863037109375  481.24684085965686   471.9669924054827   \n",
       "6  2024-08-14   475.7852783203125   482.3584884064827   473.5619649824716   \n",
       "\n",
       "                 Open    Volume  \n",
       "2   477.5252259318548  20558134  \n",
       "3   481.3918489695563   9201793  \n",
       "4  475.59195838996766   9076097  \n",
       "5   479.4102112541013   7757706  \n",
       "6  475.54361575097056   9253598  "
      ]
     },
     "execution_count": 6,
     "metadata": {},
     "output_type": "execute_result"
    }
   ],
   "source": [
    "SBIN_df = SBIN_df[2:]\n",
    "LT_df = LT_df[2:]\n",
    "ITC_df = ITC_df[2:]\n",
    "ITC_df.head()"
   ]
  },
  {
   "cell_type": "code",
   "execution_count": 7,
   "id": "63f6fb39-3e11-4ad1-b1f2-0f56bf4b9318",
   "metadata": {},
   "outputs": [],
   "source": [
    "\n",
    "ITC_df.reset_index(inplace=True)\n",
    "ITC_df.drop(columns='index',inplace=True)\n",
    "LT_df.reset_index(inplace=True)\n",
    "LT_df.drop(columns='index',inplace=True)\n",
    "SBIN_df.reset_index(inplace=True)\n",
    "SBIN_df.drop(columns='index',inplace=True)\n"
   ]
  },
  {
   "cell_type": "code",
   "execution_count": 8,
   "id": "9ea37de3-6fc8-4d4a-b5eb-2f08ca159b46",
   "metadata": {},
   "outputs": [
    {
     "name": "stdout",
     "output_type": "stream",
     "text": [
      "<class 'pandas.core.frame.DataFrame'>\n",
      "RangeIndex: 251 entries, 0 to 250\n",
      "Data columns (total 6 columns):\n",
      " #   Column  Non-Null Count  Dtype \n",
      "---  ------  --------------  ----- \n",
      " 0   Price   251 non-null    object\n",
      " 1   Close   251 non-null    object\n",
      " 2   High    251 non-null    object\n",
      " 3   Low     251 non-null    object\n",
      " 4   Open    251 non-null    object\n",
      " 5   Volume  251 non-null    object\n",
      "dtypes: object(6)\n",
      "memory usage: 11.9+ KB\n"
     ]
    }
   ],
   "source": [
    "ITC_df.info()"
   ]
  },
  {
   "cell_type": "markdown",
   "id": "c1e60157-d620-40f9-8a35-fc343806a4ff",
   "metadata": {},
   "source": [
    "Changing the data type to correct type"
   ]
  },
  {
   "cell_type": "code",
   "execution_count": 9,
   "id": "1d00dba2-2ded-4d01-9229-1e1ff1219b42",
   "metadata": {},
   "outputs": [],
   "source": [
    "def convert_to_float(df):\n",
    "    df.iloc[:, 1:] = df.iloc[:, 1:].apply(pd.to_numeric, errors='coerce')\n",
    "    \n",
    "    df = df.dropna(subset=df.columns[1:])\n",
    "    \n",
    "    df.iloc[:, 1:] = df.iloc[:, 1:].astype(float)\n",
    "    return df\n",
    "\n",
    "ITC_df = convert_to_float(ITC_df)\n",
    "SBIN_df = convert_to_float(SBIN_df)\n",
    "LT_df = convert_to_float(LT_df)"
   ]
  },
  {
   "cell_type": "markdown",
   "id": "f9375efe-e9e3-443d-af70-d57144262d51",
   "metadata": {},
   "source": [
    "Renaming all the columns to thier correct name"
   ]
  },
  {
   "cell_type": "code",
   "execution_count": 10,
   "id": "1742c6e0-4e2f-4be7-9a59-1bb1ecefe064",
   "metadata": {},
   "outputs": [
    {
     "data": {
      "text/html": [
       "<div>\n",
       "<style scoped>\n",
       "    .dataframe tbody tr th:only-of-type {\n",
       "        vertical-align: middle;\n",
       "    }\n",
       "\n",
       "    .dataframe tbody tr th {\n",
       "        vertical-align: top;\n",
       "    }\n",
       "\n",
       "    .dataframe thead th {\n",
       "        text-align: right;\n",
       "    }\n",
       "</style>\n",
       "<table border=\"1\" class=\"dataframe\">\n",
       "  <thead>\n",
       "    <tr style=\"text-align: right;\">\n",
       "      <th></th>\n",
       "      <th>Date</th>\n",
       "      <th>Open</th>\n",
       "      <th>High</th>\n",
       "      <th>Low</th>\n",
       "      <th>Close</th>\n",
       "      <th>Volume</th>\n",
       "    </tr>\n",
       "  </thead>\n",
       "  <tbody>\n",
       "    <tr>\n",
       "      <th>0</th>\n",
       "      <td>2024-08-08</td>\n",
       "      <td>3520.7146</td>\n",
       "      <td>3595.21969</td>\n",
       "      <td>3514.670868</td>\n",
       "      <td>3587.541301</td>\n",
       "      <td>2038088.0</td>\n",
       "    </tr>\n",
       "    <tr>\n",
       "      <th>1</th>\n",
       "      <td>2024-08-09</td>\n",
       "      <td>3558.858887</td>\n",
       "      <td>3572.234144</td>\n",
       "      <td>3542.659867</td>\n",
       "      <td>3566.735379</td>\n",
       "      <td>848232.0</td>\n",
       "    </tr>\n",
       "    <tr>\n",
       "      <th>2</th>\n",
       "      <td>2024-08-12</td>\n",
       "      <td>3538.94458</td>\n",
       "      <td>3577.6338</td>\n",
       "      <td>3530.077328</td>\n",
       "      <td>3545.929485</td>\n",
       "      <td>1965035.0</td>\n",
       "    </tr>\n",
       "    <tr>\n",
       "      <th>3</th>\n",
       "      <td>2024-08-13</td>\n",
       "      <td>3518.980957</td>\n",
       "      <td>3573.670854</td>\n",
       "      <td>3512.441845</td>\n",
       "      <td>3546.920337</td>\n",
       "      <td>1316218.0</td>\n",
       "    </tr>\n",
       "    <tr>\n",
       "      <th>4</th>\n",
       "      <td>2024-08-14</td>\n",
       "      <td>3512.44165</td>\n",
       "      <td>3545.632104</td>\n",
       "      <td>3503.822088</td>\n",
       "      <td>3526.064598</td>\n",
       "      <td>1584372.0</td>\n",
       "    </tr>\n",
       "  </tbody>\n",
       "</table>\n",
       "</div>"
      ],
      "text/plain": [
       "         Date         Open         High          Low        Close     Volume\n",
       "0  2024-08-08    3520.7146   3595.21969  3514.670868  3587.541301  2038088.0\n",
       "1  2024-08-09  3558.858887  3572.234144  3542.659867  3566.735379   848232.0\n",
       "2  2024-08-12   3538.94458    3577.6338  3530.077328  3545.929485  1965035.0\n",
       "3  2024-08-13  3518.980957  3573.670854  3512.441845  3546.920337  1316218.0\n",
       "4  2024-08-14   3512.44165  3545.632104  3503.822088  3526.064598  1584372.0"
      ]
     },
     "execution_count": 10,
     "metadata": {},
     "output_type": "execute_result"
    }
   ],
   "source": [
    "ITC_df.columns = ['Date', 'Open', 'High', 'Low', 'Close', 'Volume']\n",
    "SBIN_df.columns = ['Date', 'Open', 'High', 'Low', 'Close', 'Volume']\n",
    "LT_df.columns = ['Date', 'Open', 'High', 'Low', 'Close', 'Volume']\n",
    "\n",
    "LT_df.head()"
   ]
  },
  {
   "cell_type": "code",
   "execution_count": null,
   "id": "2ff442e6-7ebd-419d-b60a-b6037e37bb2d",
   "metadata": {},
   "outputs": [],
   "source": []
  },
  {
   "cell_type": "code",
   "execution_count": null,
   "id": "d4d3b376-5772-40d1-9607-c8a497278b1b",
   "metadata": {},
   "outputs": [],
   "source": []
  },
  {
   "cell_type": "markdown",
   "id": "7e02e49c-6374-4356-8ba2-2a8302270345",
   "metadata": {},
   "source": [
    "Calculating the required indicators for a stock, Like RSI, SMA20, SMA50\n",
    "- RSI - A momentum indicator that measures the speed and change of price movements. Range 0-100.\n",
    "  \n",
    "           - RSI < 30 → Oversold → Potential buy signal\n",
    "           - RSI > 70 → Overbought → Potential sell signal\n",
    "- SMA20 -  The average closing price over the last 20 days.\n",
    "- SMA50 - The average closing price over the last 50 days.\n",
    "- Bullish Signal: SMA20 crosses above SMA50 → trend may be turning upward.\n",
    "- Bearish Signal: SMA20 crosses below SMA50 → trend may be turning downward."
   ]
  },
  {
   "cell_type": "code",
   "execution_count": 11,
   "id": "9ef14621-1afa-45d0-9d61-977283b3fbc6",
   "metadata": {},
   "outputs": [],
   "source": [
    "def add_indicators(df):\n",
    "    # Ensure 'Close' exists\n",
    "    if 'Close' not in df.columns:\n",
    "        print(\"[ERROR] Missing 'Close' column.\")\n",
    "        return df\n",
    "\n",
    "    # Calculate indicators using ta and pandas\n",
    "    df['RSI'] = ta.momentum.RSIIndicator(close=df['Close'], window=14).rsi()\n",
    "    df['SMA20'] = df['Close'].rolling(window=20).mean()\n",
    "    df['SMA50'] = df['Close'].rolling(window=50).mean()\n",
    "    \n",
    "    return df.dropna()\n",
    "\n",
    "    \n",
    "LT_df = add_indicators(LT_df)\n",
    "ITC_df = add_indicators(ITC_df)\n",
    "SBIN_df = add_indicators(SBIN_df)"
   ]
  },
  {
   "cell_type": "code",
   "execution_count": 12,
   "id": "15b8b68a-732e-4e4e-9300-fb6332a3374d",
   "metadata": {},
   "outputs": [],
   "source": [
    "LT_df.reset_index(inplace=True)\n",
    "LT_df.drop(columns='index',inplace=True)\n",
    "ITC_df.reset_index(inplace=True)\n",
    "ITC_df.drop(columns='index',inplace=True)\n",
    "SBIN_df.reset_index(inplace=True)\n",
    "SBIN_df.drop(columns='index',inplace=True)"
   ]
  },
  {
   "cell_type": "markdown",
   "id": "c5941c12-0f67-4407-bb2e-b1612ca37e94",
   "metadata": {},
   "source": [
    "- MACD - Moving Average Convergence Divergence\n",
    "- A trend-following momentum indicator.\n",
    "- It shows the relationship between two Exponential Moving Averages (EMAs). EMA12 - EMA26\n",
    "- EMA12: Faster moving average (short-term)\n",
    "- EMA26: Slower moving average (long-term)"
   ]
  },
  {
   "cell_type": "code",
   "execution_count": 13,
   "id": "6caf1e5f-c59a-4104-86c6-da969bf3af10",
   "metadata": {},
   "outputs": [],
   "source": [
    "def generate_signals(df):    \n",
    "\n",
    "    # MACD\n",
    "    ema12 = df['Close'].ewm(span=12, adjust=False).mean()\n",
    "    ema26 = df['Close'].ewm(span=26, adjust=False).mean()\n",
    "    df['MACD'] = ema12 - ema26\n",
    "\n",
    "    # Signal generation\n",
    "    df['Signal'] = 0\n",
    "    df.loc[(df['RSI'] < 50) & (df['SMA20'] > df['SMA50']), 'Signal'] = 1\n",
    "    df['Target'] = (df['Close'].shift(-1) > df['Close']).astype(int)\n",
    "\n",
    "    return df\n",
    "LT_df = generate_signals(LT_df)\n",
    "SBIN_df = generate_signals(SBIN_df)\n",
    "ITC_df = generate_signals(ITC_df)"
   ]
  },
  {
   "cell_type": "markdown",
   "id": "7069f171-4e2b-4da5-9209-72fe7a4eedb2",
   "metadata": {},
   "source": [
    "- Strategy\n",
    "In trading, a strategy defines a rule-based approach to buy/sell decisions.\n",
    "For example:\n",
    "Buy when RSI < 30 and 20-DMA > 50-DMA\n",
    "Sell after price increases 5% or after 10 days\n",
    "\n",
    "- Cumulative Strategy Return\n",
    "This is the total return generated by applying the strategy over time. It tells you how much your money would grow if you followed the strategy.\n",
    "\n",
    "- Position\n",
    "A position represents whether you're in a trade or out of it (holding cash).\n",
    "1 = in the market (buy/hold)\n",
    "0 = out of the market (no position)\n",
    "\n",
    "- Returns\n",
    "This refers to percentage change in price, typically daily\n",
    "\n",
    "- Total Return\n",
    "The overall gain or loss made by a stock or strategy over a period.\n",
    "\n",
    "- Sharpe Ratio\n",
    "Measures risk-adjusted return. It shows how much return you're getting per unit of risk. A higher Sharpe ratio (>1) is better; it means you're earning good returns for the risk taken.\n",
    "\n",
    "- Win Ratio\n",
    "Proportion of profitable trades out of total trades.Helps you assess how often your strategy wins.\n",
    "\n",
    "\n"
   ]
  },
  {
   "cell_type": "code",
   "execution_count": 14,
   "id": "825058a3-83ad-4367-b359-74a6c373fa87",
   "metadata": {},
   "outputs": [],
   "source": [
    "def backtesting(df):\n",
    "    # Ensure DataFrame is not modified externally\n",
    "    df = df.copy()\n",
    "    \n",
    "    # Calculate positions (shift signals to avoid look-ahead bias)\n",
    "    df['Position'] = df['Signal'].shift()\n",
    "    \n",
    "    # Calculate daily returns\n",
    "    df['Returns'] = df['Close'].pct_change()\n",
    "    \n",
    "    # Calculate strategy returns\n",
    "    df['Strategy'] = df['Returns'] * df['Position']\n",
    "    \n",
    "    # Cumulative strategy returns (compounded)\n",
    "    df['Cumulative_Strategy'] = (1 + df['Strategy']).cumprod() - 1\n",
    "    total_return = df['Cumulative_Strategy'].iloc[-1]\n",
    "    \n",
    "    # Win ratio (only for days with non-zero strategy returns)\n",
    "    active_trades = df[df['Strategy'] != 0]\n",
    "    win_ratio = (active_trades['Strategy'] > 0).sum() / len(active_trades) if len(active_trades) > 0 else 0\n",
    "    \n",
    "    # Additional metric: Sharpe Ratio (annualized)\n",
    "    sharpe_ratio = (df['Strategy'].mean() / df['Strategy'].std()) * np.sqrt(252) if df['Strategy'].std() != 0 else 0\n",
    "    \n",
    "    return round(total_return, 4), round(win_ratio, 2), round(sharpe_ratio, 2)\n",
    "    \n",
    "total_return_LT, win_ratio_LT, sharpe_ratio_LT = backtesting(LT_df)\n",
    "total_return_SBI, win_ratio_SBI, sharpe_ratio_SBI = backtesting(SBIN_df)\n",
    "total_return_ITC, win_ratio_ITC, sharpe_ratio_ITC = backtesting(ITC_df)\n"
   ]
  },
  {
   "cell_type": "code",
   "execution_count": 15,
   "id": "dfda136e-2754-4957-87c8-064937369850",
   "metadata": {},
   "outputs": [],
   "source": [
    "from sklearn.model_selection import train_test_split\n",
    "from sklearn.tree import DecisionTreeClassifier\n",
    "from sklearn.metrics import accuracy_score\n",
    "from sklearn.ensemble import RandomForestClassifier"
   ]
  },
  {
   "cell_type": "code",
   "execution_count": 16,
   "id": "0c80ba23-de56-4866-8d8d-55e34b63c53b",
   "metadata": {},
   "outputs": [],
   "source": [
    "import gspread\n",
    "from oauth2client.service_account import ServiceAccountCredentials\n",
    "import datetime\n"
   ]
  },
  {
   "cell_type": "code",
   "execution_count": 17,
   "id": "94bde936-65c9-4e8d-b516-8591c0b3fb33",
   "metadata": {},
   "outputs": [
    {
     "name": "stdout",
     "output_type": "stream",
     "text": [
      "ITC 0.4878048780487805\n",
      "LT 0.5853658536585366\n",
      "SBI 0.5853658536585366\n"
     ]
    }
   ],
   "source": [
    "def ml_prediction_dtc(df):\n",
    "    features = ['RSI', 'MACD', 'SMA20', 'SMA50', 'Volume']\n",
    "    \n",
    "    # Ensure all features are present\n",
    "    missing = [f for f in features if f not in df.columns]\n",
    "    if missing:\n",
    "        print(f\"Missing features: {missing}\")\n",
    "        return None\n",
    "\n",
    "    X = df[features]\n",
    "    y = df['Target']\n",
    "\n",
    "    if X.empty or y.empty:\n",
    "        print(\"Empty X or y. Skipping ML.\")\n",
    "        return None\n",
    "\n",
    "    X_train, X_test, y_train, y_test = train_test_split(X, y, test_size=0.2, random_state=1)\n",
    "    \n",
    "    clf = RandomForestClassifier(max_depth=4)\n",
    "    clf.fit(X_train, y_train)\n",
    "\n",
    "    return clf.score(X_test, y_test)\n",
    "\n",
    "accuracy_LT = ml_prediction_dtc(LT_df)\n",
    "accuracy_SBI = ml_prediction_dtc(SBIN_df)\n",
    "accuracy_ITC = ml_prediction_dtc(ITC_df)\n",
    "print('ITC',accuracy_ITC)\n",
    "print('LT',accuracy_LT)\n",
    "print('SBI',accuracy_SBI)"
   ]
  },
  {
   "cell_type": "markdown",
   "id": "46769fd9-6056-47d3-a5c2-37a271a3cc05",
   "metadata": {},
   "source": [
    "By doing the hyperparameter tunning we can imporve the accuracy for the model. Also there are some ML models that are specifically build for trading, we can use them for better performance. "
   ]
  },
  {
   "cell_type": "code",
   "execution_count": 18,
   "id": "6ee7aad7-6a92-4e7f-8361-4c59a9169f7a",
   "metadata": {},
   "outputs": [],
   "source": [
    "def init_sheet():\n",
    "    scope = ['https://spreadsheets.google.com/feeds','https://www.googleapis.com/auth/drive']\n",
    "    creds = ServiceAccountCredentials.from_json_keyfile_name('credentials.json',scope)\n",
    "    client = gspread.authorize(creds)\n",
    "\n",
    "    return client.open('Algo_trade')\n",
    "\n",
    "sheet = init_sheet()"
   ]
  },
  {
   "cell_type": "code",
   "execution_count": 21,
   "id": "99ccc4dd-6b01-4b05-874f-4959071fedbb",
   "metadata": {},
   "outputs": [],
   "source": [
    "def log_sheet(df, sheet, stock, total_return, win_ratio, accuracy):\n",
    "    # Ensure Date is datetime\n",
    "    df['Date'] = pd.to_datetime(df['Date'])\n",
    "    \n",
    "    for _, row in df[df['Signal'] == 1].iterrows():\n",
    "        log_trade(sheet, stock, str(row['Date'].date()), row['Close'], 'BUY', total_return)\n",
    "    log_summary(sheet, stock, total_return, win_ratio, accuracy)\n",
    "\n",
    "# Log trade function\n",
    "def log_trade(sheet, stock, date, price, action, total_return):\n",
    "    sheet.worksheet('TradeLog').append_row([stock, date, action, price, total_return])\n",
    "\n",
    "# Log summary function\n",
    "def log_summary(sheet, stock, total_return, win_ratio, accuracy):\n",
    "    sheet.worksheet('Summary').append_row([stock, total_return, win_ratio, accuracy])"
   ]
  },
  {
   "cell_type": "markdown",
   "id": "4409f13a-d931-491c-aaf3-14630cef715a",
   "metadata": {},
   "source": [
    "Saving data into google sheets. TradeLog and Summart 2 separate sheets"
   ]
  },
  {
   "cell_type": "code",
   "execution_count": 23,
   "id": "5a6a708c-9932-4610-9e0f-efbe8670ba5b",
   "metadata": {
    "scrolled": true
   },
   "outputs": [
    {
     "ename": "APIError",
     "evalue": "APIError: [429]: Quota exceeded for quota metric 'Read requests' and limit 'Read requests per minute per user' of service 'sheets.googleapis.com' for consumer 'project_number:428701723624'.",
     "output_type": "error",
     "traceback": [
      "\u001b[1;31m---------------------------------------------------------------------------\u001b[0m",
      "\u001b[1;31mAPIError\u001b[0m                                  Traceback (most recent call last)",
      "Cell \u001b[1;32mIn[23], line 1\u001b[0m\n\u001b[1;32m----> 1\u001b[0m log_sheet(LT_df, sheet, \u001b[38;5;124m'\u001b[39m\u001b[38;5;124mLT.NS\u001b[39m\u001b[38;5;124m'\u001b[39m,total_return_LT, win_ratio_LT, accuracy_LT)\n\u001b[0;32m      2\u001b[0m log_sheet(SBIN_df, sheet, \u001b[38;5;124m'\u001b[39m\u001b[38;5;124mSBIN.NS\u001b[39m\u001b[38;5;124m'\u001b[39m,total_return_SBI, win_ratio_SBI, accuracy_SBI)\n\u001b[0;32m      3\u001b[0m log_sheet(ITC_df, sheet, \u001b[38;5;124m'\u001b[39m\u001b[38;5;124mITC.NS\u001b[39m\u001b[38;5;124m'\u001b[39m,total_return_ITC, win_ratio_ITC, accuracy_ITC)\n",
      "Cell \u001b[1;32mIn[21], line 6\u001b[0m, in \u001b[0;36mlog_sheet\u001b[1;34m(df, sheet, stock, total_return, win_ratio, accuracy)\u001b[0m\n\u001b[0;32m      3\u001b[0m df[\u001b[38;5;124m'\u001b[39m\u001b[38;5;124mDate\u001b[39m\u001b[38;5;124m'\u001b[39m] \u001b[38;5;241m=\u001b[39m pd\u001b[38;5;241m.\u001b[39mto_datetime(df[\u001b[38;5;124m'\u001b[39m\u001b[38;5;124mDate\u001b[39m\u001b[38;5;124m'\u001b[39m])\n\u001b[0;32m      5\u001b[0m \u001b[38;5;28;01mfor\u001b[39;00m _, row \u001b[38;5;129;01min\u001b[39;00m df[df[\u001b[38;5;124m'\u001b[39m\u001b[38;5;124mSignal\u001b[39m\u001b[38;5;124m'\u001b[39m] \u001b[38;5;241m==\u001b[39m \u001b[38;5;241m1\u001b[39m]\u001b[38;5;241m.\u001b[39miterrows():\n\u001b[1;32m----> 6\u001b[0m     log_trade(sheet, stock, \u001b[38;5;28mstr\u001b[39m(row[\u001b[38;5;124m'\u001b[39m\u001b[38;5;124mDate\u001b[39m\u001b[38;5;124m'\u001b[39m]\u001b[38;5;241m.\u001b[39mdate()), row[\u001b[38;5;124m'\u001b[39m\u001b[38;5;124mClose\u001b[39m\u001b[38;5;124m'\u001b[39m], \u001b[38;5;124m'\u001b[39m\u001b[38;5;124mBUY\u001b[39m\u001b[38;5;124m'\u001b[39m, total_return)\n\u001b[0;32m      7\u001b[0m log_summary(sheet, stock, total_return, win_ratio, accuracy)\n",
      "Cell \u001b[1;32mIn[21], line 11\u001b[0m, in \u001b[0;36mlog_trade\u001b[1;34m(sheet, stock, date, price, action, total_return)\u001b[0m\n\u001b[0;32m     10\u001b[0m \u001b[38;5;28;01mdef\u001b[39;00m \u001b[38;5;21mlog_trade\u001b[39m(sheet, stock, date, price, action, total_return):\n\u001b[1;32m---> 11\u001b[0m     sheet\u001b[38;5;241m.\u001b[39mworksheet(\u001b[38;5;124m'\u001b[39m\u001b[38;5;124mTradeLog\u001b[39m\u001b[38;5;124m'\u001b[39m)\u001b[38;5;241m.\u001b[39mappend_row([stock, date, action, price, total_return])\n",
      "File \u001b[1;32mE:\\anaconda\\Lib\\site-packages\\gspread\\spreadsheet.py:325\u001b[0m, in \u001b[0;36mSpreadsheet.worksheet\u001b[1;34m(self, title)\u001b[0m\n\u001b[0;32m    307\u001b[0m \u001b[38;5;28;01mdef\u001b[39;00m \u001b[38;5;21mworksheet\u001b[39m(\u001b[38;5;28mself\u001b[39m, title: \u001b[38;5;28mstr\u001b[39m) \u001b[38;5;241m-\u001b[39m\u001b[38;5;241m>\u001b[39m Worksheet:\n\u001b[0;32m    308\u001b[0m \u001b[38;5;250m    \u001b[39m\u001b[38;5;124;03m\"\"\"Returns a worksheet with specified `title`.\u001b[39;00m\n\u001b[0;32m    309\u001b[0m \n\u001b[0;32m    310\u001b[0m \u001b[38;5;124;03m    :param title: A title of a worksheet. If there're multiple\u001b[39;00m\n\u001b[1;32m   (...)\u001b[0m\n\u001b[0;32m    323\u001b[0m \u001b[38;5;124;03m    >>> worksheet = sht.worksheet('Annual bonuses')\u001b[39;00m\n\u001b[0;32m    324\u001b[0m \u001b[38;5;124;03m    \"\"\"\u001b[39;00m\n\u001b[1;32m--> 325\u001b[0m     sheet_data \u001b[38;5;241m=\u001b[39m \u001b[38;5;28mself\u001b[39m\u001b[38;5;241m.\u001b[39mfetch_sheet_metadata()\n\u001b[0;32m    326\u001b[0m     \u001b[38;5;28;01mtry\u001b[39;00m:\n\u001b[0;32m    327\u001b[0m         item \u001b[38;5;241m=\u001b[39m finditem(\n\u001b[0;32m    328\u001b[0m             \u001b[38;5;28;01mlambda\u001b[39;00m x: x[\u001b[38;5;124m\"\u001b[39m\u001b[38;5;124mproperties\u001b[39m\u001b[38;5;124m\"\u001b[39m][\u001b[38;5;124m\"\u001b[39m\u001b[38;5;124mtitle\u001b[39m\u001b[38;5;124m\"\u001b[39m] \u001b[38;5;241m==\u001b[39m title,\n\u001b[0;32m    329\u001b[0m             sheet_data[\u001b[38;5;124m\"\u001b[39m\u001b[38;5;124msheets\u001b[39m\u001b[38;5;124m\"\u001b[39m],\n\u001b[0;32m    330\u001b[0m         )\n",
      "File \u001b[1;32mE:\\anaconda\\Lib\\site-packages\\gspread\\spreadsheet.py:230\u001b[0m, in \u001b[0;36mSpreadsheet.fetch_sheet_metadata\u001b[1;34m(self, params)\u001b[0m\n\u001b[0;32m    218\u001b[0m \u001b[38;5;28;01mdef\u001b[39;00m \u001b[38;5;21mfetch_sheet_metadata\u001b[39m(\n\u001b[0;32m    219\u001b[0m     \u001b[38;5;28mself\u001b[39m, params: Optional[ParamsType] \u001b[38;5;241m=\u001b[39m \u001b[38;5;28;01mNone\u001b[39;00m\n\u001b[0;32m    220\u001b[0m ) \u001b[38;5;241m-\u001b[39m\u001b[38;5;241m>\u001b[39m Mapping[\u001b[38;5;28mstr\u001b[39m, Any]:\n\u001b[0;32m    221\u001b[0m \u001b[38;5;250m    \u001b[39m\u001b[38;5;124;03m\"\"\"Similar to :method spreadsheets_get:`gspread.http_client.spreadsheets_get`,\u001b[39;00m\n\u001b[0;32m    222\u001b[0m \u001b[38;5;124;03m    get the spreadsheet form the API but by default **does not get the cells data**.\u001b[39;00m\n\u001b[0;32m    223\u001b[0m \u001b[38;5;124;03m    It only retrieve the the metadata from the spreadsheet.\u001b[39;00m\n\u001b[1;32m   (...)\u001b[0m\n\u001b[0;32m    228\u001b[0m \u001b[38;5;124;03m    :rtype: dict\u001b[39;00m\n\u001b[0;32m    229\u001b[0m \u001b[38;5;124;03m    \"\"\"\u001b[39;00m\n\u001b[1;32m--> 230\u001b[0m     \u001b[38;5;28;01mreturn\u001b[39;00m \u001b[38;5;28mself\u001b[39m\u001b[38;5;241m.\u001b[39mclient\u001b[38;5;241m.\u001b[39mfetch_sheet_metadata(\u001b[38;5;28mself\u001b[39m\u001b[38;5;241m.\u001b[39mid, params\u001b[38;5;241m=\u001b[39mparams)\n",
      "File \u001b[1;32mE:\\anaconda\\Lib\\site-packages\\gspread\\http_client.py:305\u001b[0m, in \u001b[0;36mHTTPClient.fetch_sheet_metadata\u001b[1;34m(self, id, params)\u001b[0m\n\u001b[0;32m    301\u001b[0m     params \u001b[38;5;241m=\u001b[39m {\u001b[38;5;124m\"\u001b[39m\u001b[38;5;124mincludeGridData\u001b[39m\u001b[38;5;124m\"\u001b[39m: \u001b[38;5;124m\"\u001b[39m\u001b[38;5;124mfalse\u001b[39m\u001b[38;5;124m\"\u001b[39m}\n\u001b[0;32m    303\u001b[0m url \u001b[38;5;241m=\u001b[39m SPREADSHEET_URL \u001b[38;5;241m%\u001b[39m \u001b[38;5;28mid\u001b[39m\n\u001b[1;32m--> 305\u001b[0m r \u001b[38;5;241m=\u001b[39m \u001b[38;5;28mself\u001b[39m\u001b[38;5;241m.\u001b[39mrequest(\u001b[38;5;124m\"\u001b[39m\u001b[38;5;124mget\u001b[39m\u001b[38;5;124m\"\u001b[39m, url, params\u001b[38;5;241m=\u001b[39mparams)\n\u001b[0;32m    307\u001b[0m \u001b[38;5;28;01mreturn\u001b[39;00m r\u001b[38;5;241m.\u001b[39mjson()\n",
      "File \u001b[1;32mE:\\anaconda\\Lib\\site-packages\\gspread\\http_client.py:128\u001b[0m, in \u001b[0;36mHTTPClient.request\u001b[1;34m(self, method, endpoint, params, data, json, files, headers)\u001b[0m\n\u001b[0;32m    126\u001b[0m     \u001b[38;5;28;01mreturn\u001b[39;00m response\n\u001b[0;32m    127\u001b[0m \u001b[38;5;28;01melse\u001b[39;00m:\n\u001b[1;32m--> 128\u001b[0m     \u001b[38;5;28;01mraise\u001b[39;00m APIError(response)\n",
      "\u001b[1;31mAPIError\u001b[0m: APIError: [429]: Quota exceeded for quota metric 'Read requests' and limit 'Read requests per minute per user' of service 'sheets.googleapis.com' for consumer 'project_number:428701723624'."
     ]
    }
   ],
   "source": [
    "\n",
    "    \n",
    "log_sheet(LT_df, sheet, 'LT.NS',total_return_LT, win_ratio_LT, accuracy_LT)\n",
    "log_sheet(SBIN_df, sheet, 'SBIN.NS',total_return_SBI, win_ratio_SBI, accuracy_SBI)\n",
    "log_sheet(ITC_df, sheet, 'ITC.NS',total_return_ITC, win_ratio_ITC, accuracy_ITC)\n"
   ]
  },
  {
   "cell_type": "code",
   "execution_count": null,
   "id": "323eb3e8-85a2-4d77-9547-4e9fb063043d",
   "metadata": {},
   "outputs": [],
   "source": []
  },
  {
   "cell_type": "code",
   "execution_count": null,
   "id": "70246dfd-de93-4783-b21d-281f371b1eeb",
   "metadata": {},
   "outputs": [],
   "source": []
  },
  {
   "cell_type": "code",
   "execution_count": null,
   "id": "38ba3bad-0829-4c07-a189-fec9bea7a1c7",
   "metadata": {},
   "outputs": [],
   "source": []
  }
 ],
 "metadata": {
  "kernelspec": {
   "display_name": "Python 3 (ipykernel)",
   "language": "python",
   "name": "python3"
  },
  "language_info": {
   "codemirror_mode": {
    "name": "ipython",
    "version": 3
   },
   "file_extension": ".py",
   "mimetype": "text/x-python",
   "name": "python",
   "nbconvert_exporter": "python",
   "pygments_lexer": "ipython3",
   "version": "3.11.4"
  }
 },
 "nbformat": 4,
 "nbformat_minor": 5
}
